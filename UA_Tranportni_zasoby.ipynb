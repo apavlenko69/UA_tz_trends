{
 "cells": [
  {
   "cell_type": "markdown",
   "metadata": {},
   "source": [
    "## Ukrainian automotive market 2013-2019 (tentative title)\n",
    "<hr>"
   ]
  },
  {
   "cell_type": "markdown",
   "metadata": {},
   "source": [
    "Data is publically accessible at [Ukrainian Open Data Portal](https://data.gov.ua)\n",
    "\n",
    "Anonymized annual datasets of [vehicle owners](https://data.gov.ua/en/dataset/06779371-308f-42d7-895e-5a39833375f0) for the period from 01-January-2013 till 12-October-2019 was used in analysis.\n",
    "\n",
    "### Ideas for use of data:\n",
    "\n",
    "- Article analyzing market trends for 7 years\n",
    "- Create publically accessible dashboard\n",
    "- Interactive chart to analyze data in time"
   ]
  },
  {
   "cell_type": "markdown",
   "metadata": {},
   "source": [
    "### Data export from CSV-files"
   ]
  },
  {
   "cell_type": "code",
   "execution_count": null,
   "metadata": {},
   "outputs": [],
   "source": [
    "import pandas as pd\n",
    "import numpy as np\n",
    "%timeit"
   ]
  },
  {
   "cell_type": "code",
   "execution_count": null,
   "metadata": {},
   "outputs": [],
   "source": [
    "files = []\n",
    "# files = !ls -d \"$PWD\"/datasets/* | grep tz_opendata # Absolute path\n",
    "files = !ls -d ./datasets/* | grep tz_opendata # relative path\n",
    "files"
   ]
  },
  {
   "cell_type": "code",
   "execution_count": null,
   "metadata": {},
   "outputs": [],
   "source": [
    "#    This Cell normally can be skipped.\n",
    "#    It was used for TEST of the 2019 dataset having some incorrect data. \n",
    "\n",
    "\n",
    "#map_cols_dtypes = {'own_weight': np.float64,\n",
    "#                   'OWN_WEIGHT': np.float64,\n",
    "#                   'total_weight':np.float64,\n",
    "#                   'TOTAL_WEIGHT':np.float64,\n",
    "#                   'n_reg_new': object\n",
    "#                  }\n",
    "\n",
    "#df_ = pd.read_csv(files[6], sep=';', \n",
    "#                      parse_dates=['d_reg'], \n",
    "#                      index_col='d_reg', \n",
    "#                      low_memory=False,\n",
    "#                      dtype=map_cols_dtypes,\n",
    "#                      error_bad_lines=False,\n",
    "#                     )\n",
    "\n"
   ]
  },
  {
   "cell_type": "code",
   "execution_count": null,
   "metadata": {},
   "outputs": [],
   "source": [
    "# %timeit -r1 df = pd.read_csv(files[0], sep=';', parse_dates=['d_reg'], index_col='d_reg', low_memory=False)\n",
    "# df = pd.read_csv(files[6], sep=';', parse_dates=['d_reg'], index_col='d_reg', low_memory=False)"
   ]
  },
  {
   "cell_type": "code",
   "execution_count": null,
   "metadata": {},
   "outputs": [],
   "source": [
    "'''\n",
    "    Export data from 7 annual csv-files into one merged dataset.\n",
    "    \n",
    "    Original 2019 csv-file data cleaned manually before export. \n",
    "    Removed \",\" used as decimal separator in several columns.\n",
    "'''\n",
    "\n",
    "df = pd.DataFrame()\n",
    "\n",
    "map_cols_dtypes = {'own_weight': np.float64,\n",
    "                   'OWN_WEIGHT': np.float64,\n",
    "                   'total_weight': np.float64,\n",
    "                   'TOTAL_WEIGHT': np.float64,\n",
    "                   'n_reg_new': object\n",
    "                  }\n",
    "\n",
    "for i, file in enumerate(files):\n",
    "    df_ = pd.read_csv(file, sep=';', \n",
    "                      parse_dates=['d_reg'], \n",
    "                      index_col='d_reg',\n",
    "                      skipinitialspace=True,\n",
    "                      dtype=map_cols_dtypes,\n",
    "                      error_bad_lines=False,\n",
    "                     )\n",
    "    \n",
    "    df_.rename(str.capitalize, axis='columns', inplace=True)\n",
    "    df = df.append(df_).sort_index()\n",
    "    print(\"Finished loop {} of {} for file: {}\".format(i+1, len(files), file))\n",
    "    \n",
    "print(\"All done!\")"
   ]
  },
  {
   "cell_type": "code",
   "execution_count": null,
   "metadata": {},
   "outputs": [],
   "source": [
    "# Drop useless columns\n",
    "\n",
    "df.drop(axis='columns', columns='Reg_addr_koatuu', inplace=True)"
   ]
  },
  {
   "cell_type": "code",
   "execution_count": null,
   "metadata": {},
   "outputs": [],
   "source": [
    "# Strip models from records in \"Brand\" columns. Models are stored in \"Models\" column.\n",
    "\n",
    "df1 = df.copy()\n",
    "df.Brand = df1.Brand.apply(lambda x: x.split('  ')[0])"
   ]
  },
  {
   "cell_type": "code",
   "execution_count": null,
   "metadata": {},
   "outputs": [],
   "source": [
    "# Convert Make_year to datetime format\n",
    "\n",
    "# df2 = df.copy()\n",
    "# df2.Make_year = pd.to_datetime(df.Make_year, format='%Y', yearfirst=True)"
   ]
  },
  {
   "cell_type": "code",
   "execution_count": null,
   "metadata": {},
   "outputs": [],
   "source": [
    "df.sample(3)"
   ]
  },
  {
   "cell_type": "markdown",
   "metadata": {},
   "source": [
    "### EDA of exported dataset"
   ]
  },
  {
   "cell_type": "code",
   "execution_count": null,
   "metadata": {
    "scrolled": false
   },
   "outputs": [],
   "source": [
    "df.info()"
   ]
  },
  {
   "cell_type": "code",
   "execution_count": null,
   "metadata": {
    "scrolled": false
   },
   "outputs": [],
   "source": [
    "df.isnull().sum()"
   ]
  },
  {
   "cell_type": "code",
   "execution_count": null,
   "metadata": {
    "scrolled": false
   },
   "outputs": [],
   "source": [
    "# Export DataFrame with cleaned data to csv-file\n",
    "\n",
    "# df.to_csv('UA_TZ_registration_licenses_01-01-2013_12-10-2019')"
   ]
  },
  {
   "cell_type": "code",
   "execution_count": null,
   "metadata": {
    "scrolled": false
   },
   "outputs": [],
   "source": [
    "# Example of search for a specific car\n",
    "\n",
    "df_cx5 = df[(df['Brand'] == 'MAZDA') \n",
    "   & (df['Model'] == 'CX-5')\n",
    "   & (df['Fuel'] == 'ДИЗЕЛЬНЕ ПАЛИВО')\n",
    "   & (df['Make_year'] == 2015)\n",
    "   & (df['Color'] == 'СІРИЙ')\n",
    "   & (df['N_reg_new'].str.contains('7379', na=False))\n",
    "      ]\n",
    "df_cx5"
   ]
  },
  {
   "cell_type": "code",
   "execution_count": null,
   "metadata": {},
   "outputs": [],
   "source": [
    "# Top road police service operation codes\n",
    "\n",
    "top_codes = df.groupby('Oper_code').Person.count().sort_values(ascending=False)[:7]\n",
    "top_codes"
   ]
  },
  {
   "cell_type": "code",
   "execution_count": null,
   "metadata": {},
   "outputs": [],
   "source": [
    "# Registration codes and names\n",
    "\n",
    "for n, code in enumerate(top_codes.index, start=1):\n",
    "    print(n, df.Oper_name[df.Oper_code == code].unique())"
   ]
  },
  {
   "cell_type": "code",
   "execution_count": null,
   "metadata": {},
   "outputs": [],
   "source": [
    "# First registration of a new cars\n",
    "\n",
    "df_new_cars = df[(df['Oper_code'] == 100) & (~df['Oper_name'].str.contains('Б/В', na=False))]\n",
    "df_new_cars.info()"
   ]
  },
  {
   "cell_type": "code",
   "execution_count": null,
   "metadata": {},
   "outputs": [],
   "source": [
    "# Annual totals\n",
    "\n",
    "df_new_cars.resample('A').Person.count()"
   ]
  },
  {
   "cell_type": "code",
   "execution_count": null,
   "metadata": {
    "scrolled": false
   },
   "outputs": [],
   "source": [
    "# First registration of a used cars\n",
    "\n",
    "df_used_cars = df[(df['Oper_code'] == 100) & (df['Oper_name'].str.contains('Б/В', na=False))]\n",
    "df_used_cars.info()"
   ]
  },
  {
   "cell_type": "code",
   "execution_count": null,
   "metadata": {
    "scrolled": true
   },
   "outputs": [],
   "source": [
    "# Annual totals\n",
    "\n",
    "df_used_cars.resample('A').Person.count()"
   ]
  },
  {
   "cell_type": "markdown",
   "metadata": {},
   "source": [
    "### Data visualization"
   ]
  },
  {
   "cell_type": "markdown",
   "metadata": {},
   "source": [
    "#### Plan of the section: \n",
    "\n",
    "- Matplotlib visalization for various aggregated categorical data\n",
    "- Timeseries for individual brand, types, models, etc.\n",
    "- Predictions for the future sales/trends"
   ]
  },
  {
   "cell_type": "code",
   "execution_count": null,
   "metadata": {},
   "outputs": [],
   "source": [
    "import matplotlib.pyplot as plt\n",
    "plt.style.use('Solarize_Light2')\n",
    "\n",
    "%matplotlib inline"
   ]
  },
  {
   "cell_type": "code",
   "execution_count": null,
   "metadata": {},
   "outputs": [],
   "source": [
    "s = plt.style.available\n",
    "print(s)"
   ]
  },
  {
   "cell_type": "code",
   "execution_count": null,
   "metadata": {},
   "outputs": [],
   "source": [
    "# Prepare data\n",
    "\n",
    "params = ['Fuel', 'Brand', 'Model', 'Color']\n",
    "p = params[2]\n",
    "date = '2014'\n",
    "UA_brands = ['ЗАЗ','DAEWOO','ЗАЗ-DAEWOO', 'ЛУАЗ']\n",
    "\n",
    "df_all_new = df[df['Oper_code'] == 100]\n",
    "\n",
    "data = df_all_new[(df_all_new.Kind == 'ЛЕГКОВИЙ') \n",
    "#                   & (df_new_cars.Brand.isin(UA_brands)) \n",
    "                  ]\n",
    "\n",
    "# Stripe top 20\n",
    "x_var = data[date][p].value_counts()[:20].index\n",
    "y_var = data[date][p].value_counts()[:20].values\n",
    "\n",
    "\n",
    "# Create plot\n",
    "fig, ax = plt.subplots(figsize=(14,8))\n",
    "rects = ax.bar(x=x_var, height=y_var)\n",
    "\n",
    "#  Customize plot\n",
    "ax.set(title='Кількість авто за параметром \"' + str(p).upper() + '\". За період - ' + date)\n",
    "ax.set_xticklabels(labels=x_var, rotation=-30, ha='left')\n",
    "\n",
    "# add labels for bars\n",
    "for rect in rects:\n",
    "    height = rect.get_height()\n",
    "    ax.text(rect.get_x() + rect.get_width()/2., 1.005*height,'%d' % int(height), ha='center', va='bottom')\n",
    "\n",
    "plt.show()"
   ]
  },
  {
   "cell_type": "code",
   "execution_count": null,
   "metadata": {
    "scrolled": false
   },
   "outputs": [],
   "source": [
    "auto_brands = sorted(list(df[df.Kind == 'ЛЕГКОВИЙ']['Brand'].unique()))\n",
    "print(auto_brands)"
   ]
  },
  {
   "cell_type": "code",
   "execution_count": null,
   "metadata": {},
   "outputs": [],
   "source": [
    "moskals = [\n",
    "    'АЗЛК', 'АС', 'АСПЗ', 'АТ', 'БАЗ', 'ВАЗ', 'ВИС', 'ВС', 'ГАЗ', \n",
    "    'ГАЗ-ЧАЗ', 'ГАРЗ', 'ЕМ', 'ЕРАЗ', 'ЗИЛ', 'ЗИМ', 'ЗИС', 'ИЖ', 'КАВЗ', 'КАМА', \n",
    "    'КНОТТ', 'КРИПТОН-М', 'КТП', 'МАЗ', 'МЗМА', 'ОДАЗ', 'ОДИСЕЙ', 'ПГ', 'ПГМФ', 'ПР', 'ПСКОВ', \n",
    "    'РАФ', 'РОСАВТО'\n",
    "]\n",
    "\n",
    "respectful_brands = [\n",
    "    'MAZDA',\n",
    "    'RENAULT',\n",
    "    'NISSAN',\n",
    "    'VOLKSWAGEN',\n",
    "    'TOYOTA',\n",
    "#    'SKODA',\n",
    "]\n",
    "\n",
    "df_brands = [df_all_new[df_all_new['Brand'] == brand] for brand in respectful_brands]\n",
    "df_moskal = df_all_new[df_all_new['Brand'].isin(moskals)]"
   ]
  },
  {
   "cell_type": "code",
   "execution_count": null,
   "metadata": {
    "scrolled": false
   },
   "outputs": [],
   "source": [
    "fig, ax1 = plt.subplots(figsize=(15,7))\n",
    "\n",
    "for data in df_brands:\n",
    "    data[:'2018-8'].resample('M').Person.count().plot(ax=ax1)\n",
    "\n",
    "#df_moskal[:'2018'].resample('M').Person.count().plot(ax=ax1)\n",
    "\n",
    "\n",
    "ax1.legend(respectful_brands \n",
    "#           + ['москалі']\n",
    "          )\n",
    "ax1.set(xlabel='Date of the registration', ylabel='Totals', title='Number of monthly registered new cars')\n",
    "\n",
    "plt.show()"
   ]
  },
  {
   "cell_type": "markdown",
   "metadata": {},
   "source": [
    "### Discovering trends"
   ]
  },
  {
   "cell_type": "code",
   "execution_count": null,
   "metadata": {},
   "outputs": [],
   "source": [
    "import statsmodels.api as sm"
   ]
  },
  {
   "cell_type": "code",
   "execution_count": null,
   "metadata": {},
   "outputs": [],
   "source": [
    "brs = ['RENAULT']\n",
    "df_brand_all = df[(df['Oper_code'] == 100) & (df['Brand'].isin(brs))][:'2018']\n",
    "\n",
    "decomposed = sm.tsa.seasonal_decompose(df_brand_all.resample('M').Person.count(), \n",
    "                                       extrapolate_trend=1, \n",
    "                                       freq=12)\n",
    "\n",
    "# Create plot\n",
    "fig = plt.figure(figsize=(15,7))\n",
    "\n",
    "# Plot and customize\n",
    "ax = decomposed.trend.plot(label='Trend', linewidth=2)\n",
    "ax = decomposed.observed.plot(label='Observed', linewidth=0.5)\n",
    "\n",
    "ax.set(title='Trend for the number of registered new cars')\n",
    "ax.legend()\n",
    "\n",
    "plt.show()"
   ]
  },
  {
   "cell_type": "markdown",
   "metadata": {},
   "source": [
    "### Compare UA market with world wide trends"
   ]
  },
  {
   "cell_type": "markdown",
   "metadata": {},
   "source": [
    "Auto and Light Truck Sales Historical Chart [dataset](https://www.macrotrends.net/1372/auto-and-light-truck-sales-historical-chart) "
   ]
  },
  {
   "cell_type": "code",
   "execution_count": null,
   "metadata": {},
   "outputs": [],
   "source": [
    "df_global_trends = pd.read_csv('./datasets/auto-and-light-truck-sales-historical-chart.csv', \n",
    "                               parse_dates=['date'], index_col='date', skiprows=15, skipinitialspace=True)\n",
    "\n",
    "df_global_trends = df_global_trends['2013':'2018-8']"
   ]
  },
  {
   "cell_type": "code",
   "execution_count": null,
   "metadata": {},
   "outputs": [],
   "source": [
    "df_global_trends.info()"
   ]
  },
  {
   "cell_type": "code",
   "execution_count": null,
   "metadata": {},
   "outputs": [],
   "source": [
    "ax2 = df_global_trends.plot(figsize=(15,7))\n",
    "ax2.set(ylabel='Sales, (millions)', title='Auto and Light Truck Sales Historical Chart')\n",
    "\n",
    "plt.show()"
   ]
  },
  {
   "cell_type": "code",
   "execution_count": null,
   "metadata": {},
   "outputs": [],
   "source": [
    "# Normalization function for global trends\n",
    "\n",
    "f = lambda x: (x - df_global_trends.value.min())/(df_global_trends.value.max() - df_global_trends.value.min())"
   ]
  },
  {
   "cell_type": "code",
   "execution_count": null,
   "metadata": {
    "scrolled": true
   },
   "outputs": [],
   "source": [
    "df_global_trends_norm = df_global_trends['value'].apply(f)"
   ]
  },
  {
   "cell_type": "code",
   "execution_count": null,
   "metadata": {},
   "outputs": [],
   "source": [
    "df_renault = df_all_new[(df_all_new['Brand'] == 'RENAULT') & (df_all_new['Kind'] == 'ЛЕГКОВИЙ')]['2013':'2018-8']"
   ]
  },
  {
   "cell_type": "code",
   "execution_count": null,
   "metadata": {},
   "outputs": [],
   "source": [
    "df_renault_sales_monhtly = df_renault['Person'].resample('M').count()"
   ]
  },
  {
   "cell_type": "code",
   "execution_count": null,
   "metadata": {},
   "outputs": [],
   "source": [
    "# Normalization function for UA market (Renault) sales\n",
    "\n",
    "fn = lambda x: (x - df_renault_sales_monhtly.min())/(df_renault_sales_monhtly.max() - df_renault_sales_monhtly.min())"
   ]
  },
  {
   "cell_type": "code",
   "execution_count": null,
   "metadata": {},
   "outputs": [],
   "source": [
    "df_renault_sales_monhtly_norm = df_renault_sales_monhtly.apply(fn)"
   ]
  },
  {
   "cell_type": "code",
   "execution_count": null,
   "metadata": {},
   "outputs": [],
   "source": [
    "df_renault_sales_monhtly_norm.tail()"
   ]
  },
  {
   "cell_type": "code",
   "execution_count": null,
   "metadata": {},
   "outputs": [],
   "source": [
    "ax3 = df_global_trends_norm.plot(figsize=(15,7))\n",
    "df_renault_sales_monhtly_norm.plot(ax=ax3)\n",
    "\n",
    "ax3.set(ylabel='Sales, (normalized)', title='Auto and Light Truck Sales vs Renault in UA')\n",
    "ax3.legend(['Global', 'Renault UA'])\n",
    "\n",
    "plt.show()"
   ]
  },
  {
   "cell_type": "code",
   "execution_count": null,
   "metadata": {},
   "outputs": [],
   "source": []
  }
 ],
 "metadata": {
  "kernelspec": {
   "display_name": "Python 3",
   "language": "python",
   "name": "python3"
  },
  "language_info": {
   "codemirror_mode": {
    "name": "ipython",
    "version": 3
   },
   "file_extension": ".py",
   "mimetype": "text/x-python",
   "name": "python",
   "nbconvert_exporter": "python",
   "pygments_lexer": "ipython3",
   "version": "3.7.4"
  }
 },
 "nbformat": 4,
 "nbformat_minor": 2
}
